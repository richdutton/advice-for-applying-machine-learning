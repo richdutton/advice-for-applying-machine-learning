{
 "metadata": {
  "name": "",
  "signature": "sha256:01abc06630eac52a48ed26209ef3c51c033a8545d765aa98a7597585726219ff"
 },
 "nbformat": 3,
 "nbformat_minor": 0,
 "worksheets": [
  {
   "cells": [
    {
     "cell_type": "code",
     "collapsed": false,
     "input": [],
     "language": "python",
     "metadata": {},
     "outputs": []
    }
   ],
   "metadata": {}
  }
 ]
}
